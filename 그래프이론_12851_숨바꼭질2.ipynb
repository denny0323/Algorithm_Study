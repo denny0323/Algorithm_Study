{
 "cells": [
  {
   "cell_type": "code",
   "execution_count": null,
   "metadata": {},
   "outputs": [],
   "source": [
    "'''\n",
    "> Problem\n",
    "@ 백준 12851번\n",
    "@ 숨바꼭질2\n",
    "@ URL https://www.acmicpc.net/problem/12851\n",
    "'''"
   ]
  },
  {
   "cell_type": "code",
   "execution_count": 1,
   "metadata": {},
   "outputs": [],
   "source": [
    "import sys\n",
    "from collections import deque"
   ]
  },
  {
   "cell_type": "code",
   "execution_count": 6,
   "metadata": {},
   "outputs": [],
   "source": [
    "input_file = open('./input/1697.txt', 'r')\n",
    "Start, End = map(int, input_file.readline().split())"
   ]
  },
  {
   "cell_type": "code",
   "execution_count": 7,
   "metadata": {},
   "outputs": [],
   "source": [
    "#Start, End = map(int, sys.stdin.readline().split())\n",
    "MAX = 10**5+1\n",
    "count = [[-1,0] for _ in range(MAX)]   # [distance, count]"
   ]
  },
  {
   "cell_type": "code",
   "execution_count": 8,
   "metadata": {},
   "outputs": [],
   "source": [
    "q = deque()\n",
    "q.append(Start)\n",
    "count[Start][0] = 0  # distance\n",
    "count[Start][1] = 1  # count, 방법 수까지 세는 것이 관건\n",
    "\n",
    "while q:\n",
    "    curr = q.popleft()\n",
    "    for child in (curr-1, curr+1, 2*curr):\n",
    "        if 0<=child<MAX:\n",
    "            if count[child][0] == -1:                      # 첫 방문\n",
    "                count[child][0] = count[curr][0] + 1       # 현재 node(dist=0)에서 +1 = 1\n",
    "                count[child][1] = count[curr][1]           # 방법의 수 = 1\n",
    "                q.append(child)                            # 탐색 대상\n",
    "            \n",
    "            elif count[child][0] == count[curr][0] + 1:   # 이미 다녀감 (위에서 한 연산) \n",
    "                count[child][1] += count[curr][1]          # 방법 수만 늘림"
   ]
  },
  {
   "cell_type": "code",
   "execution_count": 10,
   "metadata": {},
   "outputs": [
    {
     "name": "stdout",
     "output_type": "stream",
     "text": [
      "4\n",
      "2\n"
     ]
    }
   ],
   "source": [
    "print(count[End][0])\n",
    "print(count[End][1])"
   ]
  },
  {
   "cell_type": "code",
   "execution_count": null,
   "metadata": {},
   "outputs": [],
   "source": [
    "'''\n",
    "> result \n",
    "@ Memory : 43468 KB\n",
    "@ Time : 304 ms\n",
    "@ Code length : 895 B\n",
    "'''"
   ]
  }
 ],
 "metadata": {
  "kernelspec": {
   "display_name": "Python 3",
   "language": "python",
   "name": "python3"
  },
  "language_info": {
   "codemirror_mode": {
    "name": "ipython",
    "version": 3
   },
   "file_extension": ".py",
   "mimetype": "text/x-python",
   "name": "python",
   "nbconvert_exporter": "python",
   "pygments_lexer": "ipython3",
   "version": "3.7.6"
  }
 },
 "nbformat": 4,
 "nbformat_minor": 4
}
