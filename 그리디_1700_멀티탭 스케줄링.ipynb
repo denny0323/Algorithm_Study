{
 "cells": [
  {
   "cell_type": "code",
   "execution_count": null,
   "metadata": {},
   "outputs": [],
   "source": [
    "'''\n",
    "> Problem\n",
    "@ 백준 1700번\n",
    "@ 멀티탭 스케줄링\n",
    "@ URL https://www.acmicpc.net/problem/1700\n",
    "'''"
   ]
  },
  {
   "cell_type": "code",
   "execution_count": 22,
   "metadata": {},
   "outputs": [],
   "source": [
    "# import sys\n",
    "# input = sys.stdin.readline\n",
    "# N, K = map(int, input().split())\n",
    "# orders = list(map(int, input().split()))"
   ]
  },
  {
   "cell_type": "code",
   "execution_count": 77,
   "metadata": {},
   "outputs": [],
   "source": [
    "input_file = open('./input/1700(3).txt', 'r')\n",
    "N, K = map(int, input_file.readline().split())\n",
    "orders = list(map(int, input_file.readline().split()))"
   ]
  },
  {
   "cell_type": "code",
   "execution_count": 79,
   "metadata": {},
   "outputs": [
    {
     "name": "stdout",
     "output_type": "stream",
     "text": [
      "[1, 0, 0]\n",
      "[1, 1, 0]\n",
      "[1, 1, 1]\n",
      "[1, 1, 1]\n",
      "[1, 1, 1] [101, 101, 101]\n",
      "[2, 1, 1] [101, 101, 101]\n",
      "2\n"
     ]
    }
   ],
   "source": [
    "multitap = [0]*N\n",
    "change = 0\n",
    "\n",
    "for i in range(K):\n",
    "    if 0 in multitap:\n",
    "        multitap[multitap.index(0)] = orders[i]\n",
    "        print(multitap)\n",
    "    elif orders[i] in multitap:\n",
    "        print(multitap)\n",
    "        pass\n",
    "    else:\n",
    "        next_used_id = []\n",
    "        for j in multitap:\n",
    "            try:\n",
    "                idx = orders[i:].index(j)\n",
    "            except:\n",
    "                idx = 101\n",
    "            next_used_id.append(idx)\n",
    "        max_idx = next_used_id.index(max(next_used_id))\n",
    "        print(multitap, next_used_id)\n",
    "        multitap[max_idx] = orders[i] # 교체\n",
    "        change += 1\n",
    "print(change)"
   ]
  },
  {
   "cell_type": "code",
   "execution_count": null,
   "metadata": {},
   "outputs": [],
   "source": [
    "'''\n",
    " > result : 틀렸습니다.\n",
    " 반례 : 3 6 / 1 1 1 1 2 3 -> 정답 : 0, 결과 : 2\n",
    " > solution : 조건문 순서 변경\n",
    "'''"
   ]
  },
  {
   "cell_type": "code",
   "execution_count": null,
   "metadata": {},
   "outputs": [],
   "source": [
    "# import sys\n",
    "# input = sys.stdin.readline\n",
    "# N, K = map(int, input().split())\n",
    "# orders = list(map(int, input().split()))"
   ]
  },
  {
   "cell_type": "code",
   "execution_count": 80,
   "metadata": {},
   "outputs": [],
   "source": [
    "input_file = open('./input/1700(3).txt', 'r')\n",
    "N, K = map(int, input_file.readline().split())\n",
    "orders = list(map(int, input_file.readline().split()))\n",
    "\n",
    "multitap = [0]*N\n",
    "change = 0\n",
    "\n",
    "for i in range(K):\n",
    "    if orders[i] in multitap:\n",
    "        print(multitap)\n",
    "        pass\n",
    "    elif 0 in multitap:\n",
    "        multitap[multitap.index(0)] = orders[i]\n",
    "        print(multitap)\n",
    "    else:\n",
    "        next_used_id = []\n",
    "        for j in multitap:\n",
    "            try:\n",
    "                idx = orders[i:].index(j)\n",
    "            except:\n",
    "                idx = 101\n",
    "            next_used_id.append(idx)\n",
    "        max_idx = next_used_id.index(max(next_used_id))\n",
    "        print(multitap, next_used_id)\n",
    "        multitap[max_idx] = orders[i] # 교체\n",
    "        change += 1\n",
    "print(change)"
   ]
  },
  {
   "cell_type": "code",
   "execution_count": null,
   "metadata": {},
   "outputs": [],
   "source": [
    "'''\n",
    "> result \n",
    "@ Memory : 28776 KB\n",
    "@ Time : 68 ms\n",
    "@ Code length : 618 B\n",
    "'''"
   ]
  }
 ],
 "metadata": {
  "kernelspec": {
   "display_name": "Python 3",
   "language": "python",
   "name": "python3"
  },
  "language_info": {
   "codemirror_mode": {
    "name": "ipython",
    "version": 3
   },
   "file_extension": ".py",
   "mimetype": "text/x-python",
   "name": "python",
   "nbconvert_exporter": "python",
   "pygments_lexer": "ipython3",
   "version": "3.7.6"
  }
 },
 "nbformat": 4,
 "nbformat_minor": 4
}
