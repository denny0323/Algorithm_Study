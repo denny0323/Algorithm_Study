{
 "cells": [
  {
   "cell_type": "code",
   "execution_count": 150,
   "metadata": {},
   "outputs": [],
   "source": [
    "def main():\n",
    "\n",
    "    def draw_stars(i, j, n, first=True):\n",
    "        if first:\n",
    "            global origin_i, origin_j # 원래 좌표\n",
    "            origin_i, origin_j = i, j\n",
    "\n",
    "        if (i%3 ==1) and (j%3 ==1):\n",
    "            stars[origin_i][origin_j]=' '\n",
    "        elif n == 3:\n",
    "            stars[origin_i][origin_j]='*'\n",
    "        else:\n",
    "            draw_stars(i//3, j//3, n//3, False)\n",
    "            \n",
    "    n = int(input())\n",
    "    stars = [[' ' for _ in range(n)] for _ in range(n)]\n",
    "    \n",
    "    for i in range(n):\n",
    "        for j in range(n):\n",
    "            draw_stars(i,j,n)\n",
    "\n",
    "    for k in stars:\n",
    "        print(''.join(k))\n",
    "\n",
    "if __name__ == \"__main__\":\n",
    "    main()"
   ]
  },
  {
   "cell_type": "code",
   "execution_count": null,
   "metadata": {},
   "outputs": [],
   "source": [
    "'''\n",
    "> result : 시간초과\n",
    "'''"
   ]
  },
  {
   "cell_type": "code",
   "execution_count": null,
   "metadata": {},
   "outputs": [],
   "source": [
    "n = int(input())\n",
    "square = [[0] * n for i in range(n)]\n",
    "\n",
    "\n",
    "def star_or_empty(i, j, n):\n",
    "    if square[i][j] != 0:\n",
    "        return square[i][j]\n",
    "    if i % 3 == 1 and j % 3 == 1:\n",
    "        square[i][j] = ' '\n",
    "        return square[i][j]\n",
    "    elif n == 1:\n",
    "        square[i][j] = '*'\n",
    "        return square[i][j]\n",
    "    else:\n",
    "        square[i][j] = star_or_empty(i//3, j//3, n//3)\n",
    "        return square[i][j]\n",
    "\n",
    "\n",
    "for i in range(n):\n",
    "    for j in range(n):\n",
    "        square[i][j] = star_or_empty(i, j, n)\n",
    "\n",
    "print('\\n'.join([''.join(i) for i in square]))"
   ]
  },
  {
   "cell_type": "code",
   "execution_count": null,
   "metadata": {},
   "outputs": [],
   "source": [
    "'''\n",
    "> result\n",
    "@ Memory : 75260 KB\n",
    "@ Time : 3464 ms\n",
    "@ Code length : 529 B\n",
    "'''"
   ]
  }
 ],
 "metadata": {
  "kernelspec": {
   "display_name": "Python 3",
   "language": "python",
   "name": "python3"
  },
  "language_info": {
   "codemirror_mode": {
    "name": "ipython",
    "version": 3
   },
   "file_extension": ".py",
   "mimetype": "text/x-python",
   "name": "python",
   "nbconvert_exporter": "python",
   "pygments_lexer": "ipython3",
   "version": "3.7.5"
  }
 },
 "nbformat": 4,
 "nbformat_minor": 4
}
