{
 "cells": [
  {
   "cell_type": "code",
   "execution_count": 21,
   "metadata": {},
   "outputs": [],
   "source": [
    "#N, M = int(input().split())\n",
    "input_file = open('11286.txt', 'r')\n",
    "N = int(input_file.readline())"
   ]
  },
  {
   "cell_type": "code",
   "execution_count": 22,
   "metadata": {},
   "outputs": [],
   "source": [
    "import heapq"
   ]
  },
  {
   "cell_type": "code",
   "execution_count": 23,
   "metadata": {},
   "outputs": [
    {
     "name": "stdout",
     "output_type": "stream",
     "text": [
      "-1\n",
      "1\n",
      "0\n",
      "-1\n",
      "-1\n",
      "1\n",
      "1\n",
      "-2\n",
      "2\n",
      "0\n"
     ]
    }
   ],
   "source": [
    "abs_heap = []\n",
    "for i in range(N):\n",
    "    x = int(input_file.readline())\n",
    "    if abs(x) > 0:\n",
    "        heapq.heappush(abs_heap, (abs(x), x))\n",
    "    else:\n",
    "        if len(abs_heap) == 0 :\n",
    "            print(0)\n",
    "        else:\n",
    "            curr_min = heapq.heappop(abs_heap)[1]\n",
    "            print(curr_min)"
   ]
  },
  {
   "cell_type": "code",
   "execution_count": null,
   "metadata": {},
   "outputs": [],
   "source": [
    "'''\n",
    "> result\n",
    "@ Memory : 38036KB\n",
    "@ Time : 184ms\n",
    "@ Code length : 337B\n",
    "'''"
   ]
  }
 ],
 "metadata": {
  "kernelspec": {
   "display_name": "Python 3",
   "language": "python",
   "name": "python3"
  },
  "language_info": {
   "codemirror_mode": {
    "name": "ipython",
    "version": 3
   },
   "file_extension": ".py",
   "mimetype": "text/x-python",
   "name": "python",
   "nbconvert_exporter": "python",
   "pygments_lexer": "ipython3",
   "version": "3.7.6"
  }
 },
 "nbformat": 4,
 "nbformat_minor": 4
}
