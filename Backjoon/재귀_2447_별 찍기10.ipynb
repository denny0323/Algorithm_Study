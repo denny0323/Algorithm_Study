{
 "cells": [
  {
   "cell_type": "markdown",
   "metadata": {},
   "source": [
    "### 1."
   ]
  },
  {
   "cell_type": "code",
   "execution_count": 1,
   "metadata": {},
   "outputs": [
    {
     "name": "stdout",
     "output_type": "stream",
     "text": [
      "27\n"
     ]
    }
   ],
   "source": [
    "N = int(input())"
   ]
  },
  {
   "cell_type": "code",
   "execution_count": 2,
   "metadata": {},
   "outputs": [],
   "source": [
    "stars = [[' ' for _ in range(N)] for _ in range(N)]"
   ]
  },
  {
   "cell_type": "code",
   "execution_count": 3,
   "metadata": {},
   "outputs": [],
   "source": [
    "def draw_stars(N):\n",
    "    if N == 3:\n",
    "        stars[0][:3] = stars[2][:3] = ['*']*3\n",
    "        stars[1][:3] = ['*',' ','*']\n",
    "        return\n",
    "    \n",
    "    nextN = N // 3\n",
    "    draw_stars(nextN)\n",
    "    for i in range(3):\n",
    "        for j in range(3):\n",
    "            if i==1 and j==1:\n",
    "                continue\n",
    "            for k in range(nextN):\n",
    "                stars[nextN*i+k][nextN*j:nextN*(j+1)] = stars[k][:nextN] ### 이해하기"
   ]
  },
  {
   "cell_type": "code",
   "execution_count": 4,
   "metadata": {},
   "outputs": [],
   "source": [
    "draw_stars(N)"
   ]
  },
  {
   "cell_type": "code",
   "execution_count": 5,
   "metadata": {},
   "outputs": [
    {
     "name": "stdout",
     "output_type": "stream",
     "text": [
      "***************************\n",
      "* ** ** ** ** ** ** ** ** *\n",
      "***************************\n",
      "***   ******   ******   ***\n",
      "* *   * ** *   * ** *   * *\n",
      "***   ******   ******   ***\n",
      "***************************\n",
      "* ** ** ** ** ** ** ** ** *\n",
      "***************************\n",
      "*********         *********\n",
      "* ** ** *         * ** ** *\n",
      "*********         *********\n",
      "***   ***         ***   ***\n",
      "* *   * *         * *   * *\n",
      "***   ***         ***   ***\n",
      "*********         *********\n",
      "* ** ** *         * ** ** *\n",
      "*********         *********\n",
      "***************************\n",
      "* ** ** ** ** ** ** ** ** *\n",
      "***************************\n",
      "***   ******   ******   ***\n",
      "* *   * ** *   * ** *   * *\n",
      "***   ******   ******   ***\n",
      "***************************\n",
      "* ** ** ** ** ** ** ** ** *\n",
      "***************************\n"
     ]
    }
   ],
   "source": [
    "for i in stars:\n",
    "    print(''.join(i))"
   ]
  },
  {
   "cell_type": "code",
   "execution_count": null,
   "metadata": {},
   "outputs": [],
   "source": [
    "'''\n",
    "> result\n",
    "@ Memory : 67284 KB\n",
    "@ Time : 420 ms\n",
    "@ Code length : 512 B\n",
    "'''"
   ]
  },
  {
   "cell_type": "markdown",
   "metadata": {},
   "source": [
    "### 2."
   ]
  },
  {
   "cell_type": "code",
   "execution_count": 6,
   "metadata": {},
   "outputs": [
    {
     "name": "stdout",
     "output_type": "stream",
     "text": [
      "27\n",
      "***************************\n",
      "* ** ** ** ** ** ** ** ** *\n",
      "***************************\n",
      "***   ******   ******   ***\n",
      "* *   * ** *   * ** *   * *\n",
      "***   ******   ******   ***\n",
      "***************************\n",
      "* ** ** ** ** ** ** ** ** *\n",
      "***************************\n",
      "*********         *********\n",
      "* ** ** *         * ** ** *\n",
      "*********         *********\n",
      "***   ***         ***   ***\n",
      "* *   * *         * *   * *\n",
      "***   ***         ***   ***\n",
      "*********         *********\n",
      "* ** ** *         * ** ** *\n",
      "*********         *********\n",
      "***************************\n",
      "* ** ** ** ** ** ** ** ** *\n",
      "***************************\n",
      "***   ******   ******   ***\n",
      "* *   * ** *   * ** *   * *\n",
      "***   ******   ******   ***\n",
      "***************************\n",
      "* ** ** ** ** ** ** ** ** *\n",
      "***************************\n"
     ]
    }
   ],
   "source": [
    "def main():\n",
    "\n",
    "    def draw_stars(i, j, n, first=True):\n",
    "        if first:\n",
    "            global origin_i, origin_j # 원래 좌표\n",
    "            origin_i, origin_j = i, j\n",
    "\n",
    "        if (i%3 ==1) and (j%3 ==1):\n",
    "            stars[origin_i][origin_j]=' '\n",
    "        elif n == 3:\n",
    "            stars[origin_i][origin_j]='*'\n",
    "        else:\n",
    "            draw_stars(i//3, j//3, n//3, False)\n",
    "            \n",
    "    n = int(input())\n",
    "    stars = [[' ' for _ in range(n)] for _ in range(n)]\n",
    "    \n",
    "    for i in range(n):\n",
    "        for j in range(n):\n",
    "            draw_stars(i,j,n)\n",
    "\n",
    "    for k in stars:\n",
    "        print(''.join(k))\n",
    "\n",
    "if __name__ == \"__main__\":\n",
    "    main()"
   ]
  },
  {
   "cell_type": "code",
   "execution_count": null,
   "metadata": {},
   "outputs": [],
   "source": [
    "'''\n",
    "> result : 시간초과\n",
    "'''"
   ]
  },
  {
   "cell_type": "markdown",
   "metadata": {},
   "source": [
    "### 3."
   ]
  },
  {
   "cell_type": "code",
   "execution_count": null,
   "metadata": {},
   "outputs": [],
   "source": [
    "n = int(input())\n",
    "square = [[0] * n for i in range(n)]\n",
    "\n",
    "\n",
    "def star_or_empty(i, j, n):\n",
    "    if square[i][j] != 0:\n",
    "        return square[i][j]\n",
    "    if i % 3 == 1 and j % 3 == 1:\n",
    "        square[i][j] = ' '\n",
    "        return square[i][j]\n",
    "    elif n == 1:\n",
    "        square[i][j] = '*'\n",
    "        return square[i][j]\n",
    "    else:\n",
    "        square[i][j] = star_or_empty(i//3, j//3, n//3)\n",
    "        return square[i][j]\n",
    "\n",
    "\n",
    "for i in range(n):\n",
    "    for j in range(n):\n",
    "        square[i][j] = star_or_empty(i, j, n)\n",
    "\n",
    "print('\\n'.join([''.join(i) for i in square]))"
   ]
  },
  {
   "cell_type": "code",
   "execution_count": null,
   "metadata": {},
   "outputs": [],
   "source": [
    "'''\n",
    "> result\n",
    "@ Memory : 75260 KB\n",
    "@ Time : 3464 ms\n",
    "@ Code length : 529 B\n",
    "'''"
   ]
  },
  {
   "cell_type": "markdown",
   "metadata": {},
   "source": [
    "### 4."
   ]
  },
  {
   "cell_type": "code",
   "execution_count": 7,
   "metadata": {},
   "outputs": [
    {
     "name": "stdout",
     "output_type": "stream",
     "text": [
      "27\n",
      "***************************\n",
      "* ** ** ** ** ** ** ** ** *\n",
      "***************************\n",
      "***   ******   ******   ***\n",
      "* *   * ** *   * ** *   * *\n",
      "***   ******   ******   ***\n",
      "***************************\n",
      "* ** ** ** ** ** ** ** ** *\n",
      "***************************\n",
      "*********         *********\n",
      "* ** ** *         * ** ** *\n",
      "*********         *********\n",
      "***   ***         ***   ***\n",
      "* *   * *         * *   * *\n",
      "***   ***         ***   ***\n",
      "*********         *********\n",
      "* ** ** *         * ** ** *\n",
      "*********         *********\n",
      "***************************\n",
      "* ** ** ** ** ** ** ** ** *\n",
      "***************************\n",
      "***   ******   ******   ***\n",
      "* *   * ** *   * ** *   * *\n",
      "***   ******   ******   ***\n",
      "***************************\n",
      "* ** ** ** ** ** ** ** ** *\n",
      "***************************\n",
      "\n"
     ]
    }
   ],
   "source": [
    "def main():\n",
    "    ans = []\n",
    "    n= int(input())\n",
    "    for dy in range(n):\n",
    "        for dx in range(n):\n",
    "            flag = 1\n",
    "            y = dy\n",
    "            x = dx\n",
    "            while y != 0:\n",
    "                if y % 3 == 1 & x % 3 == 1:\n",
    "                    flag = 2\n",
    "                    ans.append(' ')\n",
    "                    break\n",
    "                x = x//3\n",
    "                y = y//3\n",
    "            if flag == 1:\n",
    "                ans.append('*')\n",
    "        ans.append('\\n')\n",
    "    result = ''.join(ans)\n",
    "    print(result)\n",
    "\n",
    "if __name__ == \"__main__\":\n",
    "    main()"
   ]
  },
  {
   "cell_type": "code",
   "execution_count": null,
   "metadata": {},
   "outputs": [],
   "source": [
    "'''\n",
    "> result\n",
    "@ Memory : 76276 KB\n",
    "@ Time : 4532 ms\n",
    "@ Code length : 532 B\n",
    "'''"
   ]
  }
 ],
 "metadata": {
  "kernelspec": {
   "display_name": "Python 3",
   "language": "python",
   "name": "python3"
  },
  "language_info": {
   "codemirror_mode": {
    "name": "ipython",
    "version": 3
   },
   "file_extension": ".py",
   "mimetype": "text/x-python",
   "name": "python",
   "nbconvert_exporter": "python",
   "pygments_lexer": "ipython3",
   "version": "3.7.5"
  }
 },
 "nbformat": 4,
 "nbformat_minor": 4
}
