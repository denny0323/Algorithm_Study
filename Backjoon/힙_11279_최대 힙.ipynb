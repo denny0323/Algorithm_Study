{
 "cells": [
  {
   "cell_type": "code",
   "execution_count": 5,
   "metadata": {},
   "outputs": [],
   "source": [
    "#N, M = int(input().split())\n",
    "input_file = open('11279.txt', 'r')\n",
    "N = int(input_file.readline())"
   ]
  },
  {
   "cell_type": "code",
   "execution_count": 6,
   "metadata": {},
   "outputs": [],
   "source": [
    "import heapq"
   ]
  },
  {
   "cell_type": "code",
   "execution_count": 7,
   "metadata": {},
   "outputs": [
    {
     "name": "stdout",
     "output_type": "stream",
     "text": [
      "0\n",
      "2\n",
      "1\n",
      "3\n",
      "2\n",
      "1\n",
      "0\n",
      "0\n"
     ]
    }
   ],
   "source": [
    "max_heap = []\n",
    "for i in range(N):\n",
    "    x = int(input_file.readline())\n",
    "    if x > 0:\n",
    "        heapq.heappush(max_heap, (-x, x))\n",
    "    else:\n",
    "        if len(max_heap) == 0 :\n",
    "            print(0)\n",
    "        else:\n",
    "            curr_max = heapq.heappop(max_heap)[1]\n",
    "            print(curr_max)"
   ]
  },
  {
   "cell_type": "code",
   "execution_count": null,
   "metadata": {},
   "outputs": [],
   "source": [
    "'''\n",
    "> result\n",
    "@ Memory : 44216KB\n",
    "@ Time : 204ms\n",
    "@ Code length : 332B\n",
    "'''"
   ]
  }
 ],
 "metadata": {
  "kernelspec": {
   "display_name": "Python 3",
   "language": "python",
   "name": "python3"
  },
  "language_info": {
   "codemirror_mode": {
    "name": "ipython",
    "version": 3
   },
   "file_extension": ".py",
   "mimetype": "text/x-python",
   "name": "python",
   "nbconvert_exporter": "python",
   "pygments_lexer": "ipython3",
   "version": "3.7.6"
  }
 },
 "nbformat": 4,
 "nbformat_minor": 4
}
