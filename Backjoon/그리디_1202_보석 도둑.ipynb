{
 "cells": [
  {
   "cell_type": "code",
   "execution_count": null,
   "metadata": {},
   "outputs": [],
   "source": [
    "'''\n",
    "> Problem\n",
    "@ 백준 1202번\n",
    "@ 보석도둑\n",
    "@ URL https://www.acmicpc.net/problem/1202\n",
    "'''"
   ]
  },
  {
   "cell_type": "code",
   "execution_count": 1,
   "metadata": {},
   "outputs": [],
   "source": [
    "# import sys\n",
    "# input = sys.stdin.readline"
   ]
  },
  {
   "cell_type": "code",
   "execution_count": 18,
   "metadata": {},
   "outputs": [],
   "source": [
    "input_file = open('./input/1202.txt', 'r')\n",
    "N, K = map(int, input_file.readline().split())"
   ]
  },
  {
   "cell_type": "code",
   "execution_count": 20,
   "metadata": {},
   "outputs": [],
   "source": [
    "gems = []\n",
    "for _ in range(N):\n",
    "    M, V = map(int, input_file.readline().split())\n",
    "    gems.append((M, V))\n",
    "bags = [int(input_file.readline()) for _ in range(K)]"
   ]
  },
  {
   "cell_type": "code",
   "execution_count": 27,
   "metadata": {},
   "outputs": [],
   "source": [
    "gems.sort(key=lambda x:-x[1])"
   ]
  },
  {
   "cell_type": "code",
   "execution_count": 28,
   "metadata": {},
   "outputs": [],
   "source": [
    "bags.sort()"
   ]
  },
  {
   "cell_type": "code",
   "execution_count": 29,
   "metadata": {},
   "outputs": [
    {
     "data": {
      "text/plain": [
       "[(2, 99), (1, 65), (5, 23)]"
      ]
     },
     "execution_count": 29,
     "metadata": {},
     "output_type": "execute_result"
    }
   ],
   "source": [
    "gems"
   ]
  },
  {
   "cell_type": "code",
   "execution_count": 30,
   "metadata": {},
   "outputs": [
    {
     "data": {
      "text/plain": [
       "[2, 10]"
      ]
     },
     "execution_count": 30,
     "metadata": {},
     "output_type": "execute_result"
    }
   ],
   "source": [
    "bags"
   ]
  },
  {
   "cell_type": "code",
   "execution_count": 31,
   "metadata": {},
   "outputs": [
    {
     "name": "stdout",
     "output_type": "stream",
     "text": [
      "164\n"
     ]
    }
   ],
   "source": [
    "price = 0\n",
    "while bags:\n",
    "    for gem in gems:\n",
    "        for bag in bags:\n",
    "            if bag >= gem[0]:\n",
    "                price += gem[1]\n",
    "                bags.remove(bag)\n",
    "print(price)"
   ]
  },
  {
   "cell_type": "code",
   "execution_count": null,
   "metadata": {},
   "outputs": [],
   "source": [
    "'''\n",
    "> result : 시간 초과\n",
    "'''"
   ]
  },
  {
   "cell_type": "code",
   "execution_count": 34,
   "metadata": {},
   "outputs": [],
   "source": [
    "# 우선순위 큐 이용, 참고: 최소 힙(1927)\n",
    "import sys, heapq\n",
    "from collections import deque\n",
    "# input = sys.stdin.readline"
   ]
  },
  {
   "cell_type": "code",
   "execution_count": 61,
   "metadata": {},
   "outputs": [],
   "source": [
    "input_file = open('./input/1202.txt', 'r')\n",
    "N, K = map(int, input_file.readline().split())\n",
    "\n",
    "gems = [tuple(map(int, input_file.readline().split())) for _ in range(N)]\n",
    "bags = [int(input_file.readline()) for _ in range(K)]\n",
    "\n",
    "gems=deque(sorted(gems, key=lambda x:x[0])) # 무게 기준으로 오름차순\n",
    "bags.sort()"
   ]
  },
  {
   "cell_type": "code",
   "execution_count": 62,
   "metadata": {},
   "outputs": [
    {
     "data": {
      "text/plain": [
       "deque([(1, 65), (2, 99), (5, 23)])"
      ]
     },
     "execution_count": 62,
     "metadata": {},
     "output_type": "execute_result"
    }
   ],
   "source": [
    "gems"
   ]
  },
  {
   "cell_type": "code",
   "execution_count": 63,
   "metadata": {},
   "outputs": [],
   "source": [
    "heap = []\n",
    "for bag in bags:\n",
    "    for gem in gems:\n",
    "        if gem[0] <= bag:\n",
    "            heapq.heappush(heap, -gem[1]) # 최대 힙 (큰 것 부터 들어가도록)\n",
    "            bag.pop(0)"
   ]
  },
  {
   "cell_type": "code",
   "execution_count": 64,
   "metadata": {},
   "outputs": [
    {
     "data": {
      "text/plain": [
       "[-99, -65]"
      ]
     },
     "execution_count": 64,
     "metadata": {},
     "output_type": "execute_result"
    }
   ],
   "source": [
    "heap"
   ]
  },
  {
   "cell_type": "code",
   "execution_count": 55,
   "metadata": {},
   "outputs": [
    {
     "data": {
      "text/plain": [
       "164"
      ]
     },
     "execution_count": 55,
     "metadata": {},
     "output_type": "execute_result"
    }
   ],
   "source": [
    "print(-sum(heap))"
   ]
  },
  {
   "cell_type": "code",
   "execution_count": null,
   "metadata": {},
   "outputs": [],
   "source": [
    "'''\n",
    "> result : 시간 초과\n",
    "'''"
   ]
  },
  {
   "cell_type": "code",
   "execution_count": 138,
   "metadata": {},
   "outputs": [],
   "source": [
    "# 우선순위 큐 이용, 참고: 최소 힙(1927)\n",
    "import sys, heapq\n",
    "from collections import deque\n",
    "# input = sys.stdin.readline"
   ]
  },
  {
   "cell_type": "code",
   "execution_count": 139,
   "metadata": {},
   "outputs": [],
   "source": [
    "input_file = open('./input/1202.txt', 'r')\n",
    "N, K = map(int, input_file.readline().split())\n",
    "\n",
    "gems = [tuple(map(int, input_file.readline().split())) for _ in range(N)]\n",
    "bags = [int(input_file.readline()) for _ in range(K)]\n",
    "\n",
    "gems=deque(sorted(gems, key=lambda x:x[0])) # 무게 기준으로 오름차순\n",
    "bags.sort()"
   ]
  },
  {
   "cell_type": "code",
   "execution_count": 140,
   "metadata": {},
   "outputs": [],
   "source": [
    "heap = [] # 현재 가방에 담을 수 있는 보석들\n",
    "price = 0           \n",
    "\n",
    "for bag in bags:\n",
    "    while gems and bag >= gems[0][0]:\n",
    "        heapq.heappush(heap, -gems.popleft()[1]) # 최대 힙 (큰 것 부터 들어가도록)\n",
    "    if heap:                                     # 담을 수 있는 보석이 있다면,\n",
    "        price -= heapq.heappop(heap)             # 제일 큰 값의 것을 더함, \n",
    "                                                 # 제일 큰 것을 뽑고 남은 보석들은 다음 가방 무게에서도 필연적으로 수용 가능할 것. (오름차순으로 비교하기때문에)\n",
    "                                                 # 즉, 제일 큰 값을 빼고 다음 가방으로 이월함 (핵심)"
   ]
  },
  {
   "cell_type": "code",
   "execution_count": 141,
   "metadata": {},
   "outputs": [
    {
     "name": "stdout",
     "output_type": "stream",
     "text": [
      "164\n"
     ]
    }
   ],
   "source": [
    "print(price)"
   ]
  },
  {
   "cell_type": "code",
   "execution_count": null,
   "metadata": {},
   "outputs": [],
   "source": [
    "'''\n",
    "> result \n",
    "@ Memory : 91600 KB\n",
    "@ Time : 1144 ms\n",
    "@ Code length : 489 B\n",
    "'''"
   ]
  }
 ],
 "metadata": {
  "kernelspec": {
   "display_name": "Python 3",
   "language": "python",
   "name": "python3"
  },
  "language_info": {
   "codemirror_mode": {
    "name": "ipython",
    "version": 3
   },
   "file_extension": ".py",
   "mimetype": "text/x-python",
   "name": "python",
   "nbconvert_exporter": "python",
   "pygments_lexer": "ipython3",
   "version": "3.7.6"
  }
 },
 "nbformat": 4,
 "nbformat_minor": 4
}
