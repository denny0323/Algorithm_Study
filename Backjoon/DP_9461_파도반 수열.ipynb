{
 "cells": [
  {
   "cell_type": "code",
   "execution_count": null,
   "metadata": {},
   "outputs": [],
   "source": [
    "'''\n",
    "> Problem\n",
    "@ 백준 9461번\n",
    "@ 파도반 수열\n",
    "@ URL https://www.acmicpc.net/problem/9461\n",
    "피보나치 수와 비슷한 규칙을 찾아 동적 계획법으로 푸는 문제\n",
    "'''"
   ]
  },
  {
   "cell_type": "code",
   "execution_count": 5,
   "metadata": {},
   "outputs": [
    {
     "name": "stdout",
     "output_type": "stream",
     "text": [
      "2\n",
      "6\n",
      "3\n",
      "12\n",
      "16\n"
     ]
    }
   ],
   "source": [
    "T = int(input())\n",
    "P = [0] * 100\n",
    "P[:10] = [1, 1, 1, 2, 2, 3, 4, 5, 7, 9]\n",
    "\n",
    "for _ in range(T):\n",
    "    N = int(input())\n",
    "    if N <= 10 :\n",
    "        print(P[N-1])\n",
    "    else:\n",
    "        for i in range(11, N+1):\n",
    "            P[i-1] = P[i-3]+P[i-4]\n",
    "        print(P[N-1])"
   ]
  },
  {
   "cell_type": "code",
   "execution_count": null,
   "metadata": {},
   "outputs": [],
   "source": [
    "'''\n",
    "> result\n",
    "@ Memory : 28766 KB\n",
    "@ Time : 76 ms\n",
    "@ Code length : 250 B\n",
    "'''"
   ]
  }
 ],
 "metadata": {
  "kernelspec": {
   "display_name": "Python 3",
   "language": "python",
   "name": "python3"
  },
  "language_info": {
   "codemirror_mode": {
    "name": "ipython",
    "version": 3
   },
   "file_extension": ".py",
   "mimetype": "text/x-python",
   "name": "python",
   "nbconvert_exporter": "python",
   "pygments_lexer": "ipython3",
   "version": "3.7.6"
  }
 },
 "nbformat": 4,
 "nbformat_minor": 4
}
