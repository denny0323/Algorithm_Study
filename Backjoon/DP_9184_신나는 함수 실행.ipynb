{
 "cells": [
  {
   "cell_type": "code",
   "execution_count": 30,
   "metadata": {},
   "outputs": [
    {
     "data": {
      "text/plain": [
       "'\\n> Problem\\n@ 백준 9184번\\n@ 신나는 함수 실행\\n@ URL https://www.acmicpc.net/problem/9184\\n재귀 호출만 생각하면 신이 난다! 아닌가요?\\n'"
      ]
     },
     "execution_count": 30,
     "metadata": {},
     "output_type": "execute_result"
    }
   ],
   "source": [
    "'''\n",
    "> Problem\n",
    "@ 백준 9184번\n",
    "@ 신나는 함수 실행\n",
    "@ URL https://www.acmicpc.net/problem/9184\n",
    "재귀 호출만 생각하면 신이 난다! 아닌가요?\n",
    "'''"
   ]
  },
  {
   "cell_type": "code",
   "execution_count": 31,
   "metadata": {},
   "outputs": [],
   "source": [
    "# 핵심 : 메모이제이션\n",
    "\n",
    "def w(a, b, c):\n",
    "    if a<=0 or b<=0 or c<=0: return 1\n",
    "    elif a > 20 or b > 20 or c > 20: return w(20, 20, 20)\n",
    "    \n",
    "    if dp[a][b][c]:\n",
    "        return dp[a][b][c]\n",
    "    \n",
    "    elif a < b < c: \n",
    "        dp[a][b][c] = w(a, b, c-1) + w(a, b-1, c-1) - w(a, b-1, c)\n",
    "        return dp[a][b][c]\n",
    "    else: \n",
    "        dp[a][b][c] = w(a-1, b, c) + w(a-1, b-1, c) + w(a-1, b, c-1) - w(a-1, b-1, c-1)\n",
    "        return dp[a][b][c]\n",
    "\n",
    "# input_file = open('./input/9184.txt', 'r')\n",
    "# input = input_file.readline\n",
    "import sys\n",
    "input = sys.stdin.readline\n",
    "\n",
    "dp = [[[[] for _ in range(51)] for _ in range(51)] for _ in range(51)]"
   ]
  },
  {
   "cell_type": "code",
   "execution_count": 34,
   "metadata": {},
   "outputs": [
    {
     "name": "stdout",
     "output_type": "stream",
     "text": [
      "w(1, 1, 1) = 2\n",
      "w(2, 2, 2) = 4\n",
      "w(10, 4, 6) = 523\n",
      "w(50, 50, 50) = 1048576\n",
      "w(-1, 7, 18) = 1\n"
     ]
    }
   ],
   "source": [
    "while True:\n",
    "    a, b, c = map(int, input().split())\n",
    "    if list(set([a,b,c])) == [-1]:\n",
    "        break\n",
    "    else:\n",
    "        print('w({}, {}, {}) = {}'.format(a,b,c, w(a,b,c)))"
   ]
  },
  {
   "cell_type": "code",
   "execution_count": null,
   "metadata": {},
   "outputs": [],
   "source": [
    "'''\n",
    "> result\n",
    "@ Memory : 38500 KB\n",
    "@ Time : 140 ms\n",
    "@ Code length : 695 B\n",
    "'''"
   ]
  }
 ],
 "metadata": {
  "kernelspec": {
   "display_name": "Python 3",
   "language": "python",
   "name": "python3"
  },
  "language_info": {
   "codemirror_mode": {
    "name": "ipython",
    "version": 3
   },
   "file_extension": ".py",
   "mimetype": "text/x-python",
   "name": "python",
   "nbconvert_exporter": "python",
   "pygments_lexer": "ipython3",
   "version": "3.7.6"
  }
 },
 "nbformat": 4,
 "nbformat_minor": 4
}
